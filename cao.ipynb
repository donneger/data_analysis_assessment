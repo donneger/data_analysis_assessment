{
 "cells": [
  {
   "cell_type": "markdown",
   "metadata": {},
   "source": [
    "# This notebook will hold an overview of how to load and analyse CAO Points data from teh CAO website. "
   ]
  }
 ],
 "metadata": {
  "interpreter": {
   "hash": "be75ef2ce3f32a4f5cca2af73c53acd32c50ccc7342ecd7dd52ab66efc36a4c4"
  },
  "kernelspec": {
   "display_name": "Python 3",
   "language": "python",
   "name": "python3"
  },
  "language_info": {
   "codemirror_mode": {
    "name": "ipython",
    "version": 3
   },
   "file_extension": ".py",
   "mimetype": "text/x-python",
   "name": "python",
   "nbconvert_exporter": "python",
   "pygments_lexer": "ipython3",
   "version": "3.8.8"
  }
 },
 "nbformat": 4,
 "nbformat_minor": 4
}
