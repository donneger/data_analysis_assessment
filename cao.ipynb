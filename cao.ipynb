{
 "cells": [
  {
   "cell_type": "markdown",
   "source": [],
   "metadata": {}
  }
 ],
 "metadata": {
  "orig_nbformat": 4,
  "language_info": {
   "name": "python",
   "version": "3.8.8"
  },
  "kernelspec": {
   "name": "python3",
   "display_name": "Python 3.8.8 64-bit ('base': conda)"
  },
  "interpreter": {
   "hash": "be75ef2ce3f32a4f5cca2af73c53acd32c50ccc7342ecd7dd52ab66efc36a4c4"
  }
 },
 "nbformat": 4,
 "nbformat_minor": 2
}