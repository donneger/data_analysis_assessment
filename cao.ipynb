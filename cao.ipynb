{
 "cells": [
  {
   "cell_type": "markdown",
   "metadata": {},
   "source": [
    "## This notebook will hold an overview of how to load and analyse CAO Points data from the CAO website. "
   ]
  },
  {
   "cell_type": "markdown",
   "metadata": {},
   "source": [
    "#CAO Website\n",
    "http://www.cao.ie/index.php?page=points&p=2021"
   ]
  },
  {
   "cell_type": "code",
   "execution_count": 40,
   "metadata": {},
   "outputs": [],
   "source": [
    "# Import the regex library\n",
    "import re\n",
    "\n",
    "# Import the web requests library\n",
    "import requests as rq\n",
    "\n",
    "# Import the datetime library, will use for timestamping files\n",
    "import datetime as dt\n",
    "\n",
    "# Import os library, will use this to generate folder paths for saving files. \n",
    "import os"
   ]
  },
  {
   "cell_type": "code",
   "execution_count": 41,
   "metadata": {},
   "outputs": [],
   "source": [
    "# Set up the url for the CAO points for 2021\n",
    "caourl = 'http://www2.cao.ie/points/l8.php'"
   ]
  },
  {
   "cell_type": "code",
   "execution_count": 42,
   "metadata": {},
   "outputs": [
    {
     "data": {
      "text/plain": [
       "<Response [200]>"
      ]
     },
     "execution_count": 42,
     "metadata": {},
     "output_type": "execute_result"
    }
   ],
   "source": [
    "#Get the points data from the CAO website.\n",
    "resp = rq.get(caourl)\n",
    "\n",
    "#Check the response status, if it is 200 all ok. \n",
    "resp"
   ]
  },
  {
   "cell_type": "code",
   "execution_count": 43,
   "metadata": {},
   "outputs": [],
   "source": [
    "resp.encoding = 'cp1252'"
   ]
  },
  {
   "cell_type": "code",
   "execution_count": 44,
   "metadata": {
    "tags": []
   },
   "outputs": [
    {
     "name": "stdout",
     "output_type": "stream",
     "text": [
      "C:\\Users\\donne\\OneDrive\\Documents\\GMIT Data\\Fundamentals of Data Analysis\\Assessment\\data_analysis_assessment\n"
     ]
    }
   ],
   "source": [
    "# Use os.cwd to generate the current working directory for saving teh output files from teh analysis.\n",
    "cwd = os.getcwd()\n",
    "print(cwd)"
   ]
  },
  {
   "cell_type": "code",
   "execution_count": 45,
   "metadata": {},
   "outputs": [
    {
     "name": "stdout",
     "output_type": "stream",
     "text": [
      "C:\\Users\\donne\\OneDrive\\Documents\\GMIT Data\\Fundamentals of Data Analysis\\Assessment\\data_analysis_assessment/cao2021_20211019_074809.csv\n"
     ]
    }
   ],
   "source": [
    "now = dt.datetime.now()\n",
    "path = cwd + '/cao2021_' + now.strftime('%Y%m%d_%H%M%S')+'.csv'\n",
    "print(path)"
   ]
  },
  {
   "cell_type": "code",
   "execution_count": 46,
   "metadata": {},
   "outputs": [],
   "source": [
    "# Compile the regex expression that will be used to extract the course and points data.\n",
    "#re_course = re.compile('([\\w]{5})  (.*)([\\d]{3})(\\*?) *')\n",
    "#re_course = re.compile(r'([A-Z]{2}[0-9]{3})  (.*)([0-9]{3})(\\*?) *')"
   ]
  },
  {
   "cell_type": "code",
   "execution_count": 47,
   "metadata": {
    "tags": []
   },
   "outputs": [],
   "source": [
    "# Pull and display the CAO points data. \n",
    "linecount = 0\n",
    "with open(path,'w') as f:\n",
    "    for line in resp.iter_lines():\n",
    "        #if re_course.fullmatch(line.decode('cp1252')):  \n",
    "        if re.match('[A-Z]{2}[0-9]{3}', line.decode('cp1252')):\n",
    "            linecount = linecount+1\n",
    "            #print(line)\n",
    "            #csv_ver = re_course.sub(r'\\1,\\2,\\3,\\4', line.decode('cp1252'))\n",
    "            csv_ver = re.split('  +',line.decode('cp1252'))\n",
    "            f.write(','.join(csv_ver) + '\\n')\n",
    "            #print(','.join(csv_ver))"
   ]
  },
  {
   "cell_type": "code",
   "execution_count": null,
   "metadata": {},
   "outputs": [],
   "source": []
  }
 ],
 "metadata": {
  "interpreter": {
   "hash": "be75ef2ce3f32a4f5cca2af73c53acd32c50ccc7342ecd7dd52ab66efc36a4c4"
  },
  "kernelspec": {
   "display_name": "Python 3",
   "language": "python",
   "name": "python3"
  },
  "language_info": {
   "codemirror_mode": {
    "name": "ipython",
    "version": 3
   },
   "file_extension": ".py",
   "mimetype": "text/x-python",
   "name": "python",
   "nbconvert_exporter": "python",
   "pygments_lexer": "ipython3",
   "version": "3.8.8"
  }
 },
 "nbformat": 4,
 "nbformat_minor": 4
}
