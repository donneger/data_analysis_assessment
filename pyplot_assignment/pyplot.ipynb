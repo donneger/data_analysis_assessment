{
 "cells": [
  {
   "cell_type": "markdown",
   "id": "e62ea3db-5b2c-4a16-b5e1-cfb425e2f93c",
   "metadata": {},
   "source": [
    "# An Exploration of the matplotlib.pyplot package in Python\n",
    "## Submission Assignment for Programming for Data Analysis\n",
    "#### Gerry Donnelly November 2021"
   ]
  },
  {
   "cell_type": "markdown",
   "id": "e195572b-5878-49d8-a48f-a34b44369954",
   "metadata": {},
   "source": [
    "### Introduction\n",
    "\n",
    "Data visualisation is an essential part of data analysis to more or less bring the numbers to life. Visualisation adds levels of insights to data, be it simple of complex that cannot be easily achieved by just looking at numbers alone. The human brain is very adept at interpreting patterns, colors and shapes and plotting of data enables insights not acheiveable by just looking at sequences of numbers. \n",
    "\n",
    "In Python the primary package for visualisation of data is matplotlib with most of the useful stuff contained in the pyplot package. It is a multiplatform package built on NumPy arrays and was originally developed by John Hunter in 2002. It can work with just about any operating system and graphics hardward and software. \n",
    "\n",
    "In Section 1 of this assignment I will be describing the matplotlib.pyplot package through the use of simple examples to demonstrate the workings of the package. In section 2 I will be describing in detail 3 plots from the package. "
   ]
  },
  {
   "cell_type": "markdown",
   "id": "c793d1c4-ac0f-472c-b55a-decc477634e6",
   "metadata": {},
   "source": []
  }
 ],
 "metadata": {
  "kernelspec": {
   "display_name": "Python 3",
   "language": "python",
   "name": "python3"
  },
  "language_info": {
   "codemirror_mode": {
    "name": "ipython",
    "version": 3
   },
   "file_extension": ".py",
   "mimetype": "text/x-python",
   "name": "python",
   "nbconvert_exporter": "python",
   "pygments_lexer": "ipython3",
   "version": "3.8.8"
  }
 },
 "nbformat": 4,
 "nbformat_minor": 5
}
