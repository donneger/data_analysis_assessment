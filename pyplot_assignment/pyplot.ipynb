{
 "cells": [
  {
   "cell_type": "markdown",
   "id": "e62ea3db-5b2c-4a16-b5e1-cfb425e2f93c",
   "metadata": {},
   "source": [
    "# An Exploration of the matplotlib.pyplot package in Python\n",
    "## Submission Assignment for Programming for Data Analysis\n",
    "#### Gerry Donnelly November 2021"
   ]
  },
  {
   "cell_type": "markdown",
   "id": "e195572b-5878-49d8-a48f-a34b44369954",
   "metadata": {},
   "source": [
    "### Introduction\n",
    "Data visualisation is an essential part of data analysis to more or less bring the numbers to life. Visualisation adds levels of insights to data, be it simple of complex that cannot be easily achieved by just looking at numbers alone. The human brain is very adept at interpreting patterns, colors and shapes and plotting of data enables insights not achieveable by just looking at sequences of numbers. \n",
    "\n",
    "In Python the primary package for visualisation of data is matplotlib with most of the useful stuff contained in the pyplot subpackage. It is a multiplatform package built on NumPy arrays and was originally developed by John Hunter in 2002. It can work with just about any operating system and graphics hardware and software. \n",
    "\n",
    "In Section 1 of this assignment I will be describing the matplotlib.pyplot package through the use of simple examples to demonstrate the workings of the package. In section 2 I will be describing in detail 3 plots from the package. "
   ]
  },
  {
   "cell_type": "markdown",
   "id": "c793d1c4-ac0f-472c-b55a-decc477634e6",
   "metadata": {},
   "source": [
    "#### Section 1\n",
    "\n",
    "In this section the main features and capabilities of matplotlib.pyplot will be described using simple exmaple to demonstrate the main elements of a plot and some of the different type of plots. \n",
    "\n",
    "For this section I will display the plots of the functions f(x)=x, g(x)=x^2 and h(x)=x^3 and show how the plots and layouts can be enhanced using the various plot functions."
   ]
  },
  {
   "cell_type": "code",
   "execution_count": 3,
   "id": "2c299790-d79d-440c-87dd-39aaafc86e1e",
   "metadata": {},
   "outputs": [],
   "source": [
    "# matplotlib is usually by the following command and is generally used in conjunction with numpy.\n",
    "# for ease of use it is typically imported under the alias plt.\n",
    "\n",
    "import matplotlib.pyplot as plt\n",
    "import numpy as np"
   ]
  },
  {
   "cell_type": "code",
   "execution_count": null,
   "id": "4b5abda5-01c0-4721-b48f-91ab6133b1cd",
   "metadata": {},
   "outputs": [],
   "source": [
    "# Program to display the plot of the functions f(x)=x, g(x)=x^2 and h(x)=x^3 in the range [0, 4] on a single set of axes."
   ]
  },
  {
   "cell_type": "code",
   "execution_count": null,
   "id": "bce6bc11-3001-4cf7-b8dc-fb627a267506",
   "metadata": {},
   "outputs": [],
   "source": []
  },
  {
   "cell_type": "code",
   "execution_count": 14,
   "id": "6ec27802-1992-4bf9-89b0-42bfc088ff5f",
   "metadata": {},
   "outputs": [],
   "source": [
    "# Setting up the variable for the simple examples that will be used to show the plots. \n",
    "x = np.array([0,1,2,3,4,5,6]) # Set up the function range.\n",
    "y = x"
   ]
  },
  {
   "cell_type": "code",
   "execution_count": 15,
   "id": "ce49dc3f-43a2-40a3-a119-b47c996a4c30",
   "metadata": {},
   "outputs": [
    {
     "data": {
      "image/png": "[encoded data removed]",
      "text/plain": [
       "<Figure size 432x288 with 1 Axes>"
      ]
     },
     "metadata": {
      "needs_background": "light"
     },
     "output_type": "display_data"
    }
   ],
   "source": [
    "# The first plot shown is the most basic plot just showing how easy it is to create a simple, although not very informative, xy plot.\n",
    "plt.plot(x,y)\n",
    "plt.show()"
   ]
  },
  {
   "cell_type": "markdown",
   "id": "9e09d001-a836-4aff-95d4-df6bb5fe2d8c",
   "metadata": {},
   "source": [
    "The diagram below from the matplotlib usage guide [link_here](https://matplotlib.org/stable/tutorials/introductory/usage.html#sphx-glr-tutorials-introductory-usage-py) shows the main components of a standard plot. Each one of these componen\n",
    "![Anatomy of a plot figure](https://matplotlib.org/stable/_images/anatomy.png)"
   ]
  },
  {
   "cell_type": "code",
   "execution_count": null,
   "id": "0c961f85-e5d6-4608-9dbc-d69b3add2fdd",
   "metadata": {},
   "outputs": [],
   "source": []
  }
 ],
 "metadata": {
  "kernelspec": {
   "display_name": "Python 3",
   "language": "python",
   "name": "python3"
  },
  "language_info": {
   "codemirror_mode": {
    "name": "ipython",
    "version": 3
   },
   "file_extension": ".py",
   "mimetype": "text/x-python",
   "name": "python",
   "nbconvert_exporter": "python",
   "pygments_lexer": "ipython3",
   "version": "3.8.8"
  }
 },
 "nbformat": 4,
 "nbformat_minor": 5
}
