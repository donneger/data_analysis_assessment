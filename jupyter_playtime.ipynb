{
 "cells": [
  {
   "cell_type": "markdown",
   "id": "ddb8211b",
   "metadata": {},
   "source": [
    "# Playing with Jupyter\r\n",
    "\r\n",
    "Useful website\r\n",
    "\r\n",
    "[Useful Jupyter Document](https://jupyter.org/documentation)\r\n",
    "\r\n",
    "***"
   ]
  },
  {
   "cell_type": "code",
   "execution_count": null,
   "id": "1a599166",
   "metadata": {},
   "outputs": [],
   "source": [
    "import numpy as np\r\n",
    "import matplotlib.pyplot as plt"
   ]
  },
  {
   "cell_type": "code",
   "execution_count": null,
   "id": "16a033e5",
   "metadata": {},
   "outputs": [],
   "source": [
    "print (\"Hello World\")"
   ]
  },
  {
   "cell_type": "code",
   "execution_count": null,
   "id": "34a55ce3-fdc5-45ca-a42d-cafc7d07ab1a",
   "metadata": {},
   "outputs": [],
   "source": [
    "x = np.random.uniform(0.0,10.0, 100)\n",
    "y = np.random.uniform(0.0, 100.0, 100)\n",
    "z = np.random.normal(100.0, 40.0, 100)\n",
    "c = np.random.randint(0,20,100)\n",
    "\n",
    "\n",
    "#c is for color, s is for size\n",
    "plt.scatter(x,y,c=c,s=z)\n",
    "\n",
    "plt.show()"
   ]
  },
  {
   "cell_type": "code",
   "execution_count": null,
   "id": "072bfe8d-e388-48b2-a55e-7758c5e4ca49",
   "metadata": {},
   "outputs": [],
   "source": [
    "plt.subplot(1,2,1)\n",
    "x=np.random.normal(0.0, 1.0, 10000)\n",
    "plt.hist(x,bins=20)\n",
    "\n",
    "plt.subplot(1,2,2)\n",
    "x=np.random.uniform(-3.0, 3.0, 10000)\n",
    "plt.hist(x,bins=20)\n",
    "\n",
    "plt.show()"
   ]
  },
  {
   "cell_type": "code",
   "execution_count": null,
   "id": "60ae7b32-a09d-4c35-b553-6ff93e591f65",
   "metadata": {},
   "outputs": [],
   "source": [
    "x=np.random.normal(0.0, 1.0, 1000)\n",
    "\n",
    "plt.hist(x,bins=50)\n",
    "\n",
    "plt.show()"
   ]
  },
  {
   "cell_type": "markdown",
   "id": "d5f376fd",
   "metadata": {},
   "source": [
    "\n",
    "# References\r\n",
    "\r\n",
    "[1]https://www.datacamp.com/community/tutorials/numpy-random"
   ]
  },
  {
   "cell_type": "markdown",
   "id": "7333b334",
   "metadata": {},
   "source": [
    "# End"
   ]
  },
  {
   "cell_type": "code",
   "execution_count": null,
   "id": "98ae5338-00c4-45c5-9853-64deb7862170",
   "metadata": {},
   "outputs": [],
   "source": []
  }
 ],
 "metadata": {
  "interpreter": {
   "hash": "3965bb9a5a6798622f7d663b4184056375fe31a87b478be2c59d0d5bab350955"
  },
  "kernelspec": {
   "display_name": "Python 3",
   "language": "python",
   "name": "python3"
  },
  "language_info": {
   "codemirror_mode": {
    "name": "ipython",
    "version": 3
   },
   "file_extension": ".py",
   "mimetype": "text/x-python",
   "name": "python",
   "nbconvert_exporter": "python",
   "pygments_lexer": "ipython3",
   "version": "3.8.8"
  }
 },
 "nbformat": 4,
 "nbformat_minor": 5
}
